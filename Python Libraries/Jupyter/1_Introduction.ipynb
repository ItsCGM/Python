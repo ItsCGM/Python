{
 "cells": [
  {
   "cell_type": "code",
   "execution_count": 2,
   "id": "cc672bd5",
   "metadata": {},
   "outputs": [],
   "source": [
    "import numpy as np"
   ]
  },
  {
   "cell_type": "code",
   "execution_count": 2,
   "id": "a605b3d8",
   "metadata": {},
   "outputs": [],
   "source": [
    "my_arr = np.array([[13,32,12]], np.int8)"
   ]
  },
  {
   "cell_type": "code",
   "execution_count": 3,
   "id": "c6229417",
   "metadata": {},
   "outputs": [
    {
     "data": {
      "text/plain": [
       "array([[13, 32, 12]], dtype=int8)"
      ]
     },
     "execution_count": 3,
     "metadata": {},
     "output_type": "execute_result"
    }
   ],
   "source": [
    "my_arr"
   ]
  },
  {
   "cell_type": "code",
   "execution_count": 4,
   "id": "d7188494",
   "metadata": {},
   "outputs": [
    {
     "data": {
      "text/plain": [
       "np.int8(12)"
      ]
     },
     "execution_count": 4,
     "metadata": {},
     "output_type": "execute_result"
    }
   ],
   "source": [
    "my_arr[0,2]"
   ]
  },
  {
   "cell_type": "code",
   "execution_count": 5,
   "id": "bf203424",
   "metadata": {},
   "outputs": [],
   "source": [
    "my_arr[0,2] = 45"
   ]
  },
  {
   "cell_type": "markdown",
   "id": "f6e5ca18",
   "metadata": {},
   "source": [
    "# Array Creation: Convenrsion from other Python Structers.\n"
   ]
  },
  {
   "cell_type": "code",
   "execution_count": 6,
   "id": "074615f3",
   "metadata": {},
   "outputs": [],
   "source": [
    "list_arr = np.array([[1,2,3],[4,5,6],[7,8,9]])"
   ]
  },
  {
   "cell_type": "code",
   "execution_count": 7,
   "id": "f34e2e2c",
   "metadata": {},
   "outputs": [
    {
     "data": {
      "text/plain": [
       "array([[1, 2, 3],\n",
       "       [4, 5, 6],\n",
       "       [7, 8, 9]])"
      ]
     },
     "execution_count": 7,
     "metadata": {},
     "output_type": "execute_result"
    }
   ],
   "source": [
    "list_arr"
   ]
  },
  {
   "cell_type": "code",
   "execution_count": 8,
   "id": "a56a5b17",
   "metadata": {},
   "outputs": [
    {
     "data": {
      "text/plain": [
       "dtype('int64')"
      ]
     },
     "execution_count": 8,
     "metadata": {},
     "output_type": "execute_result"
    }
   ],
   "source": [
    "list_arr.dtype"
   ]
  },
  {
   "cell_type": "code",
   "execution_count": 9,
   "id": "b21efee8",
   "metadata": {},
   "outputs": [
    {
     "data": {
      "text/plain": [
       "(3, 3)"
      ]
     },
     "execution_count": 9,
     "metadata": {},
     "output_type": "execute_result"
    }
   ],
   "source": [
    "list_arr.shape"
   ]
  },
  {
   "cell_type": "code",
   "execution_count": 10,
   "id": "6ad90b08",
   "metadata": {},
   "outputs": [
    {
     "data": {
      "text/plain": [
       "9"
      ]
     },
     "execution_count": 10,
     "metadata": {},
     "output_type": "execute_result"
    }
   ],
   "source": [
    "list_arr.size"
   ]
  },
  {
   "cell_type": "code",
   "execution_count": 11,
   "id": "d4a9bff0",
   "metadata": {},
   "outputs": [
    {
     "data": {
      "text/plain": [
       "array({1, 2, 4}, dtype=object)"
      ]
     },
     "execution_count": 11,
     "metadata": {},
     "output_type": "execute_result"
    }
   ],
   "source": [
    "np.array({1,2,4})"
   ]
  },
  {
   "cell_type": "code",
   "execution_count": 12,
   "id": "33dba46a",
   "metadata": {},
   "outputs": [],
   "source": [
    "zeros = np.zeros((2,4)) # it generally creates array of zeros of dimension 2*5."
   ]
  },
  {
   "cell_type": "code",
   "execution_count": 13,
   "id": "f1083aeb",
   "metadata": {},
   "outputs": [
    {
     "data": {
      "text/plain": [
       "array([[0., 0., 0., 0.],\n",
       "       [0., 0., 0., 0.]])"
      ]
     },
     "execution_count": 13,
     "metadata": {},
     "output_type": "execute_result"
    }
   ],
   "source": [
    "zeros"
   ]
  },
  {
   "cell_type": "code",
   "execution_count": 5,
   "id": "229fc398",
   "metadata": {},
   "outputs": [],
   "source": [
    "rng = np.arange(45,50) # privide a numpy array from 45 to 49\n"
   ]
  },
  {
   "cell_type": "code",
   "execution_count": 4,
   "id": "9f6aadaa",
   "metadata": {},
   "outputs": [
    {
     "data": {
      "text/plain": [
       "array([45, 46, 47, 48, 49])"
      ]
     },
     "execution_count": 4,
     "metadata": {},
     "output_type": "execute_result"
    }
   ],
   "source": [
    "rng"
   ]
  },
  {
   "cell_type": "code",
   "execution_count": 16,
   "id": "122f96c8",
   "metadata": {},
   "outputs": [],
   "source": [
    "rng1 = np.arange(15) # or np.range(0,15) bot are same"
   ]
  },
  {
   "cell_type": "code",
   "execution_count": 17,
   "id": "a99af6dd",
   "metadata": {},
   "outputs": [
    {
     "data": {
      "text/plain": [
       "array([ 0,  1,  2,  3,  4,  5,  6,  7,  8,  9, 10, 11, 12, 13, 14])"
      ]
     },
     "execution_count": 17,
     "metadata": {},
     "output_type": "execute_result"
    }
   ],
   "source": [
    "rng1"
   ]
  },
  {
   "cell_type": "code",
   "execution_count": 6,
   "id": "81bd4876",
   "metadata": {},
   "outputs": [],
   "source": [
    "lspace = np.linspace(1,12,6) # this will provide me 6 equally spaced array b\\w 1 to 12 including 1 and 12."
   ]
  },
  {
   "cell_type": "code",
   "execution_count": 7,
   "id": "49e83ea9",
   "metadata": {},
   "outputs": [
    {
     "data": {
      "text/plain": [
       "array([ 1. ,  3.2,  5.4,  7.6,  9.8, 12. ])"
      ]
     },
     "execution_count": 7,
     "metadata": {},
     "output_type": "execute_result"
    }
   ],
   "source": [
    "lspace"
   ]
  },
  {
   "cell_type": "code",
   "execution_count": 8,
   "id": "dc9d9ea5",
   "metadata": {},
   "outputs": [],
   "source": [
    "emp = np.empty((4,6)) # this will provide me array of dimension 4*6 filled with the random elements."
   ]
  },
  {
   "cell_type": "code",
   "execution_count": 10,
   "id": "27088e84",
   "metadata": {},
   "outputs": [
    {
     "name": "stdout",
     "output_type": "stream",
     "text": [
      "[[6.23042070e-307 4.67296746e-307 1.69121096e-306 1.11260755e-306\n",
      "  1.89146896e-307 7.56571288e-307]\n",
      " [3.11525958e-307 1.24610723e-306 1.37962320e-306 1.29060871e-306\n",
      "  2.22518251e-306 1.33511969e-306]\n",
      " [1.78022342e-306 1.05700345e-307 3.11525958e-307 1.69118108e-306\n",
      "  8.06632139e-308 1.20160711e-306]\n",
      " [1.69119330e-306 1.29062229e-306 1.24610383e-306 1.69118108e-306\n",
      "  7.56599128e-307 1.42410974e-306]]\n"
     ]
    },
    {
     "data": {
      "text/plain": [
       "(4, 6)"
      ]
     },
     "execution_count": 10,
     "metadata": {},
     "output_type": "execute_result"
    }
   ],
   "source": [
    "print(emp)\n",
    "emp.shape"
   ]
  },
  {
   "cell_type": "code",
   "execution_count": 22,
   "id": "83132a0b",
   "metadata": {},
   "outputs": [],
   "source": [
    "emp_like = np.empty_like(lspace) # this will make a copy of \"lspace\". we use \"empty_like\" for the efficiency, for making a another array as same lengh as old one."
   ]
  },
  {
   "cell_type": "code",
   "execution_count": 23,
   "id": "8c674d52",
   "metadata": {},
   "outputs": [
    {
     "data": {
      "text/plain": [
       "array([ 1. ,  3.2,  5.4,  7.6,  9.8, 12. ])"
      ]
     },
     "execution_count": 23,
     "metadata": {},
     "output_type": "execute_result"
    }
   ],
   "source": [
    "emp_like"
   ]
  },
  {
   "cell_type": "code",
   "execution_count": 24,
   "id": "ecb37f2d",
   "metadata": {},
   "outputs": [],
   "source": [
    "ide = np.identity(12) # this will provide me a identity matrix of dimension 12*12."
   ]
  },
  {
   "cell_type": "code",
   "execution_count": 25,
   "id": "cdc0ba99",
   "metadata": {},
   "outputs": [
    {
     "data": {
      "text/plain": [
       "array([[1., 0., 0., 0., 0., 0., 0., 0., 0., 0., 0., 0.],\n",
       "       [0., 1., 0., 0., 0., 0., 0., 0., 0., 0., 0., 0.],\n",
       "       [0., 0., 1., 0., 0., 0., 0., 0., 0., 0., 0., 0.],\n",
       "       [0., 0., 0., 1., 0., 0., 0., 0., 0., 0., 0., 0.],\n",
       "       [0., 0., 0., 0., 1., 0., 0., 0., 0., 0., 0., 0.],\n",
       "       [0., 0., 0., 0., 0., 1., 0., 0., 0., 0., 0., 0.],\n",
       "       [0., 0., 0., 0., 0., 0., 1., 0., 0., 0., 0., 0.],\n",
       "       [0., 0., 0., 0., 0., 0., 0., 1., 0., 0., 0., 0.],\n",
       "       [0., 0., 0., 0., 0., 0., 0., 0., 1., 0., 0., 0.],\n",
       "       [0., 0., 0., 0., 0., 0., 0., 0., 0., 1., 0., 0.],\n",
       "       [0., 0., 0., 0., 0., 0., 0., 0., 0., 0., 1., 0.],\n",
       "       [0., 0., 0., 0., 0., 0., 0., 0., 0., 0., 0., 1.]])"
      ]
     },
     "execution_count": 25,
     "metadata": {},
     "output_type": "execute_result"
    }
   ],
   "source": [
    "ide"
   ]
  },
  {
   "cell_type": "markdown",
   "id": "4d2f97fb",
   "metadata": {},
   "source": [
    "# Reshape\n",
    "while reshaping a array you reshaped value should be equal to the number of element in the reshaped array.\n",
    "\n",
    "Example:\n",
    "    If your array having 6-elements, then you can only reshape it as (1,6), (2,3), (3,2) and (6,1)\n",
    "    here (1,6) means your reshaped array will have 1 row and 6 element in it.\n",
    "    Similiary (3,2) means you reshaped array while have 3 rows and 2 coloumn."
   ]
  },
  {
   "cell_type": "code",
   "execution_count": 26,
   "id": "c9529f0f",
   "metadata": {},
   "outputs": [
    {
     "name": "stdout",
     "output_type": "stream",
     "text": [
      "[[1 2 3 4]\n",
      " [1 2 3 4]]\n",
      "the shape of var array is: (2, 4)\n",
      "the dimension of this array is: 2\n"
     ]
    }
   ],
   "source": [
    "var = np.array([[1,2,3,4],[1,2,3,4]])\n",
    "print(var)\n",
    "\n",
    "print(f'the shape of var array is: {var.shape}')\n",
    "print(f'the dimension of this array is: {var.ndim}')"
   ]
  },
  {
   "cell_type": "code",
   "execution_count": 27,
   "id": "3f9dcf3c",
   "metadata": {},
   "outputs": [
    {
     "name": "stdout",
     "output_type": "stream",
     "text": [
      "[[1 2 3]\n",
      " [4 5 6]]\n",
      "(2, 3)\n",
      " dimension of this array is: 2\n",
      "\n",
      "[[1 2]\n",
      " [3 4]\n",
      " [5 6]]\n",
      "(3, 2)\n"
     ]
    }
   ],
   "source": [
    "var1 = np.array([1,2,3,4,5,6])\n",
    "\n",
    "#if you want to reshape your arrang like (2*3) of (3*2)\n",
    "x = var1.reshape(2,3)\n",
    "y = var1.reshape(3,2)\n",
    "print(x)\n",
    "print(x.shape)\n",
    "print(f' dimension of this array is: {x.ndim}')\n",
    "print()\n",
    "print(y)\n",
    "print(y.shape)\n"
   ]
  },
  {
   "cell_type": "code",
   "execution_count": 28,
   "id": "f959c135",
   "metadata": {},
   "outputs": [
    {
     "name": "stdout",
     "output_type": "stream",
     "text": [
      "[ 1  2  3  4  5  6  7  8  9 10 11 12]\n",
      "this is a 3 dimensional array:\n",
      "[[[ 1  2]\n",
      "  [ 3  4]\n",
      "  [ 5  6]]\n",
      "\n",
      " [[ 7  8]\n",
      "  [ 9 10]\n",
      "  [11 12]]]\n",
      "Reshaping a 3 dimensional array into 1 dimensional array: \n",
      "[ 1  2  3  4  5  6  7  8  9 10 11 12]\n"
     ]
    }
   ],
   "source": [
    "# Creating a # dimensional array\n",
    "var2 = np.arange(1,13)\n",
    "print(var2)\n",
    "\n",
    "z = var2.reshape(2,3,2) # we has reshaped a array into a 3 dimensional array.\n",
    "print(f'this is a 3 dimensional array:\\n{z}')\n",
    "\n",
    "print(f'Reshaping a 3 dimensional array into 1 dimensional array: \\n{z.reshape(-1)}')"
   ]
  },
  {
   "cell_type": "markdown",
   "id": "9956da40",
   "metadata": {},
   "source": [
    "# Numpy Axis"
   ]
  },
  {
   "cell_type": "markdown",
   "id": "1d39dd5c",
   "metadata": {},
   "source": [
    "1D = [1,2,3,4,5] --> 1 [Axis0]\n",
    "2D = [[1,2,3],[3,4,2]] --> 2 [Axis0, Axis1]\n",
    ".\n",
    ".\n",
    ".\n",
    "nD = [[1,2,3,5,32,....].......,[4,5,2,1,....]] --> n [Axis0, Axis1,....., Axisn]"
   ]
  },
  {
   "cell_type": "code",
   "execution_count": 29,
   "id": "76098f68",
   "metadata": {},
   "outputs": [],
   "source": [
    "x = [[1,2,3],[4,7,6],[7,8,0]]\n",
    "arr = np.array(x)"
   ]
  },
  {
   "cell_type": "code",
   "execution_count": 30,
   "id": "6f0c1298",
   "metadata": {},
   "outputs": [
    {
     "data": {
      "text/plain": [
       "array([[1, 2, 3],\n",
       "       [4, 7, 6],\n",
       "       [7, 8, 0]])"
      ]
     },
     "execution_count": 30,
     "metadata": {},
     "output_type": "execute_result"
    }
   ],
   "source": [
    "arr"
   ]
  },
  {
   "cell_type": "code",
   "execution_count": 31,
   "id": "e6413c85",
   "metadata": {},
   "outputs": [
    {
     "data": {
      "text/plain": [
       "array([12, 17,  9])"
      ]
     },
     "execution_count": 31,
     "metadata": {},
     "output_type": "execute_result"
    }
   ],
   "source": [
    "arr.sum(axis=0)"
   ]
  },
  {
   "cell_type": "code",
   "execution_count": 32,
   "id": "8a7db044",
   "metadata": {},
   "outputs": [
    {
     "data": {
      "text/plain": [
       "array([ 6, 17, 15])"
      ]
     },
     "execution_count": 32,
     "metadata": {},
     "output_type": "execute_result"
    }
   ],
   "source": [
    "arr.sum(axis=1)"
   ]
  },
  {
   "cell_type": "code",
   "execution_count": 33,
   "id": "1c577994",
   "metadata": {},
   "outputs": [
    {
     "data": {
      "text/plain": [
       "array([[1, 4, 7],\n",
       "       [2, 7, 8],\n",
       "       [3, 6, 0]])"
      ]
     },
     "execution_count": 33,
     "metadata": {},
     "output_type": "execute_result"
    }
   ],
   "source": [
    "arr.T # this will transpose my arr"
   ]
  },
  {
   "cell_type": "code",
   "execution_count": 34,
   "id": "c8e5a116",
   "metadata": {},
   "outputs": [
    {
     "data": {
      "text/plain": [
       "2"
      ]
     },
     "execution_count": 34,
     "metadata": {},
     "output_type": "execute_result"
    }
   ],
   "source": [
    "arr.ndim # this tell us the dimension of the array. "
   ]
  },
  {
   "cell_type": "code",
   "execution_count": 35,
   "id": "038f086a",
   "metadata": {},
   "outputs": [
    {
     "data": {
      "text/plain": [
       "9"
      ]
     },
     "execution_count": 35,
     "metadata": {},
     "output_type": "execute_result"
    }
   ],
   "source": [
    "arr.size# return number of elements of array."
   ]
  },
  {
   "cell_type": "code",
   "execution_count": 36,
   "id": "873a6478",
   "metadata": {},
   "outputs": [],
   "source": [
    "one = np.array([1,3,45,23,5,67])\n",
    "\n"
   ]
  },
  {
   "cell_type": "code",
   "execution_count": 37,
   "id": "c64d5919",
   "metadata": {},
   "outputs": [
    {
     "data": {
      "text/plain": [
       "np.int64(5)"
      ]
     },
     "execution_count": 37,
     "metadata": {},
     "output_type": "execute_result"
    }
   ],
   "source": [
    "one.argmax() # this returns the index number of max value element."
   ]
  },
  {
   "cell_type": "code",
   "execution_count": 38,
   "id": "b92ce8e1",
   "metadata": {},
   "outputs": [
    {
     "data": {
      "text/plain": [
       "np.int64(0)"
      ]
     },
     "execution_count": 38,
     "metadata": {},
     "output_type": "execute_result"
    }
   ],
   "source": [
    "one.argmin() # returns the index of the minimum array."
   ]
  },
  {
   "cell_type": "code",
   "execution_count": 39,
   "id": "c1713abd",
   "metadata": {},
   "outputs": [
    {
     "data": {
      "text/plain": [
       "array([0, 1, 4, 3, 2, 5])"
      ]
     },
     "execution_count": 39,
     "metadata": {},
     "output_type": "execute_result"
    }
   ],
   "source": [
    "one.argsort() # this return the array of indexes in the sorted form i.e in accending order."
   ]
  },
  {
   "cell_type": "markdown",
   "id": "cc7c11f7",
   "metadata": {},
   "source": [
    "lets see what will happen when we use thse \"function\" over 2D array."
   ]
  },
  {
   "cell_type": "code",
   "execution_count": 40,
   "id": "af045bbd",
   "metadata": {},
   "outputs": [
    {
     "data": {
      "text/plain": [
       "array([[1, 2, 3],\n",
       "       [4, 7, 6],\n",
       "       [7, 8, 0]])"
      ]
     },
     "execution_count": 40,
     "metadata": {},
     "output_type": "execute_result"
    }
   ],
   "source": [
    "arr"
   ]
  },
  {
   "cell_type": "code",
   "execution_count": 41,
   "id": "1ac37f6c",
   "metadata": {},
   "outputs": [
    {
     "data": {
      "text/plain": [
       "np.int64(8)"
      ]
     },
     "execution_count": 41,
     "metadata": {},
     "output_type": "execute_result"
    }
   ],
   "source": [
    "arr.argmin() "
   ]
  },
  {
   "cell_type": "code",
   "execution_count": 42,
   "id": "df241c3c",
   "metadata": {},
   "outputs": [
    {
     "data": {
      "text/plain": [
       "np.int64(7)"
      ]
     },
     "execution_count": 42,
     "metadata": {},
     "output_type": "execute_result"
    }
   ],
   "source": [
    "arr.argmax()"
   ]
  },
  {
   "cell_type": "code",
   "execution_count": 43,
   "id": "e191a860",
   "metadata": {},
   "outputs": [
    {
     "data": {
      "text/plain": [
       "array([2, 2, 1])"
      ]
     },
     "execution_count": 43,
     "metadata": {},
     "output_type": "execute_result"
    }
   ],
   "source": [
    "arr.argmax(axis = 0) # this wil returns the indexes of largest element from each of the axis=0."
   ]
  },
  {
   "cell_type": "code",
   "execution_count": 44,
   "id": "892cdbc5",
   "metadata": {},
   "outputs": [
    {
     "data": {
      "text/plain": [
       "array([0, 0, 2])"
      ]
     },
     "execution_count": 44,
     "metadata": {},
     "output_type": "execute_result"
    }
   ],
   "source": [
    "arr.argmin(axis = 1)"
   ]
  },
  {
   "cell_type": "code",
   "execution_count": 45,
   "id": "01f8d3ac",
   "metadata": {},
   "outputs": [
    {
     "data": {
      "text/plain": [
       "array([[0, 1, 2],\n",
       "       [0, 2, 1],\n",
       "       [2, 0, 1]])"
      ]
     },
     "execution_count": 45,
     "metadata": {},
     "output_type": "execute_result"
    }
   ],
   "source": [
    "arr.argsort(axis=1)"
   ]
  },
  {
   "cell_type": "code",
   "execution_count": 46,
   "id": "bedcd55e",
   "metadata": {},
   "outputs": [
    {
     "data": {
      "text/plain": [
       "array([[0, 0, 2],\n",
       "       [1, 1, 0],\n",
       "       [2, 2, 1]])"
      ]
     },
     "execution_count": 46,
     "metadata": {},
     "output_type": "execute_result"
    }
   ],
   "source": [
    "arr.argsort(axis = 0)"
   ]
  },
  {
   "cell_type": "code",
   "execution_count": null,
   "id": "47b79645",
   "metadata": {},
   "outputs": [],
   "source": []
  }
 ],
 "metadata": {
  "kernelspec": {
   "display_name": "Python 3",
   "language": "python",
   "name": "python3"
  },
  "language_info": {
   "codemirror_mode": {
    "name": "ipython",
    "version": 3
   },
   "file_extension": ".py",
   "mimetype": "text/x-python",
   "name": "python",
   "nbconvert_exporter": "python",
   "pygments_lexer": "ipython3",
   "version": "3.13.2"
  }
 },
 "nbformat": 4,
 "nbformat_minor": 5
}
