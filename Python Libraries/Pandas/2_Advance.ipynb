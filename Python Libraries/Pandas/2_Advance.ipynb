{
 "cells": [
  {
   "cell_type": "markdown",
   "id": "7e0dd03d",
   "metadata": {},
   "source": [
    "# NOTE: inplace = True\n",
    "- it modifies the original data frame values."
   ]
  },
  {
   "cell_type": "markdown",
   "id": "69734ee8",
   "metadata": {},
   "source": [
    "# Adding column in dataframe\n",
    "- this method will add new column at the end of the table.\n",
    "    - df[\"column_name\"] = some data \n",
    "- Adding a new column at a specific  position.\n",
    "    - df.insert(loc, \"column_name', 'data')"
   ]
  },
  {
   "cell_type": "code",
   "execution_count": 23,
   "id": "40770aa0",
   "metadata": {},
   "outputs": [],
   "source": [
    "import pandas as pd"
   ]
  },
  {
   "cell_type": "code",
   "execution_count": 24,
   "id": "3d43596f",
   "metadata": {},
   "outputs": [],
   "source": [
    "data ={\n",
    "    'Name': ['ram', 'syam','rahul','mohit', 'susheel','ajay','satyam','naveen', 'anshika', 'pranjali', 'akhand', 'ankanksha','sneha'],\n",
    "    \"Age\": [21,22,32,23,34,25,35,22,23,52,22,25,23],\n",
    "    \"salary\": [45000,23000,45000,12000,50000,42000,52000,51000,55000,48000,48000,49000,51000]\n",
    "    }\n",
    "\n"
   ]
  },
  {
   "cell_type": "code",
   "execution_count": 25,
   "id": "3f9212ae",
   "metadata": {},
   "outputs": [
    {
     "name": "stdout",
     "output_type": "stream",
     "text": [
      "         Name  Age  salary\n",
      "0         ram   21   45000\n",
      "1        syam   22   23000\n",
      "2       rahul   32   45000\n",
      "3       mohit   23   12000\n",
      "4     susheel   34   50000\n",
      "5        ajay   25   42000\n",
      "6      satyam   35   52000\n",
      "7      naveen   22   51000\n",
      "8     anshika   23   55000\n",
      "9    pranjali   52   48000\n",
      "10     akhand   22   48000\n",
      "11  ankanksha   25   49000\n",
      "12      sneha   23   51000\n"
     ]
    }
   ],
   "source": [
    "df = pd.DataFrame(data)\n",
    "df.to_csv(\"data.csv\", index= False )\n",
    "print(df)"
   ]
  },
  {
   "cell_type": "code",
   "execution_count": 26,
   "id": "d18e3546",
   "metadata": {},
   "outputs": [
    {
     "name": "stdout",
     "output_type": "stream",
     "text": [
      "         Name  Age  salary        Department\n",
      "0         ram   21   45000                IT\n",
      "1        syam   22   23000     Data Analysis\n",
      "2       rahul   32   45000  Costomer Support\n",
      "3       mohit   23   12000             Sales\n",
      "4     susheel   34   50000         Marketing\n",
      "5        ajay   25   42000                IT\n",
      "6      satyam   35   52000     Data Analysis\n",
      "7      naveen   22   51000  Costomer Support\n",
      "8     anshika   23   55000             Sales\n",
      "9    pranjali   52   48000         Marketing\n",
      "10     akhand   22   48000             Sales\n",
      "11  ankanksha   25   49000         Marketing\n",
      "12      sneha   23   51000                IT\n"
     ]
    }
   ],
   "source": [
    "df['Department'] = ['IT', 'Data Analysis', 'Costomer Support', 'Sales','Marketing','IT', 'Data Analysis', 'Costomer Support', 'Sales','Marketing','Sales','Marketing','IT']\n",
    "print(df)"
   ]
  },
  {
   "cell_type": "code",
   "execution_count": 27,
   "id": "d41cb0e0",
   "metadata": {},
   "outputs": [
    {
     "name": "stdout",
     "output_type": "stream",
     "text": [
      "   Employee ID       Name  Age  salary        Department\n",
      "0       EMP001        ram   21   45000                IT\n",
      "1       EMP002       syam   22   23000     Data Analysis\n",
      "2       EMP003      rahul   32   45000  Costomer Support\n",
      "3       EMP004      mohit   23   12000             Sales\n",
      "4       EMP005    susheel   34   50000         Marketing\n",
      "5       EMP006       ajay   25   42000                IT\n",
      "6       EMP007     satyam   35   52000     Data Analysis\n",
      "7       EMP008     naveen   22   51000  Costomer Support\n",
      "8       EMP009    anshika   23   55000             Sales\n",
      "9       EMP010   pranjali   52   48000         Marketing\n",
      "10      EMP011     akhand   22   48000             Sales\n",
      "11      EMP012  ankanksha   25   49000         Marketing\n",
      "12      EMP013      sneha   23   51000                IT\n"
     ]
    }
   ],
   "source": [
    "employee_ID = ['EMP001','EMP002','EMP003','EMP004','EMP005','EMP006','EMP007','EMP008','EMP009','EMP010','EMP011','EMP012','EMP013']\n",
    "df.insert(0, \"Employee ID\", employee_ID) # Inserted a 'new_column' at index 0 named \"employee_ID\"\n",
    "print(df)"
   ]
  },
  {
   "cell_type": "markdown",
   "id": "289f2658",
   "metadata": {},
   "source": [
    "# Updating value in data frame\n",
    "- Updating a cell of data frame.\n",
    "    - df.loc[index_no, \"column_name\"] = data\n",
    "- Updating a whole column.\n",
    "    - df['column_name'] = updated_data\n",
    "- Removing column and row\n",
    "   - df.drop[column = [\"column_name\", 'column_name_2', '...'], inplace = True] # Removing a column\n",
    "   - \n",
    "\n"
   ]
  },
  {
   "cell_type": "code",
   "execution_count": 28,
   "id": "5e44dde7",
   "metadata": {},
   "outputs": [
    {
     "name": "stdout",
     "output_type": "stream",
     "text": [
      "   Employee ID       Name  Age  salary        Department\n",
      "0       EMP001        ram   21   45000                IT\n",
      "1       EMP002       syam   22   25000     Data Analysis\n",
      "2       EMP003      rahul   32   45000  Costomer Support\n",
      "3       EMP004      mohit   23   12000             Sales\n",
      "4       EMP005    susheel   34   50000         Marketing\n",
      "5       EMP006       ajay   25   42000                IT\n",
      "6       EMP007     satyam   35   52000     Data Analysis\n",
      "7       EMP008     naveen   22   51000  Costomer Support\n",
      "8       EMP009    anshika   23   55000             Sales\n",
      "9       EMP010   pranjali   52   48000         Marketing\n",
      "10      EMP011     akhand   22   48000             Sales\n",
      "11      EMP012  ankanksha   25   49000         Marketing\n",
      "12      EMP013      sneha   23   51000                IT\n"
     ]
    }
   ],
   "source": [
    "df.loc[1, 'salary'] = 25000 # updating the salary of 'syam' from 23000 to 25000.\n",
    "print(df)"
   ]
  },
  {
   "cell_type": "code",
   "execution_count": 29,
   "id": "5cd2e738",
   "metadata": {},
   "outputs": [
    {
     "name": "stdout",
     "output_type": "stream",
     "text": [
      "   Employee ID       Name  Age   salary        Department\n",
      "0       EMP001        ram   21  54000.0                IT\n",
      "1       EMP002       syam   22  30000.0     Data Analysis\n",
      "2       EMP003      rahul   32  54000.0  Costomer Support\n",
      "3       EMP004      mohit   23  14400.0             Sales\n",
      "4       EMP005    susheel   34  60000.0         Marketing\n",
      "5       EMP006       ajay   25  50400.0                IT\n",
      "6       EMP007     satyam   35  62400.0     Data Analysis\n",
      "7       EMP008     naveen   22  61200.0  Costomer Support\n",
      "8       EMP009    anshika   23  66000.0             Sales\n",
      "9       EMP010   pranjali   52  57600.0         Marketing\n",
      "10      EMP011     akhand   22  57600.0             Sales\n",
      "11      EMP012  ankanksha   25  58800.0         Marketing\n",
      "12      EMP013      sneha   23  61200.0                IT\n"
     ]
    }
   ],
   "source": [
    "df['salary'] = df['salary'] + (df['salary'] * 0.2) # incresing the salary of each person  by 2%.\n",
    "print(df)"
   ]
  },
  {
   "cell_type": "markdown",
   "id": "8785a665",
   "metadata": {},
   "source": [
    "# Detecting a missing data in dataframe.\n",
    "Data frame denotes the missing in two ways-\n",
    "- NAN (Not a Number)\n",
    "- None (for  object data type)\n",
    "\n",
    "Finding for the missing data.\n",
    "- df.isnull() # Returns boolean value \n",
    "- df.innull().sum()  returns number of missing in a columns.\n",
    "\n",
    "Removing missing values.\n",
    "- df.dropna() # remove all whole row if a single column contains NaN/ None value\n",
    "- df.dropna(axis = 1) # this remove the whole the whole column if a single value in that column contain NaN/None.\n",
    "\n",
    "\n",
    "Filling the NaN / None values.\n",
    "- df.fillna(5) # every missing will aquire the 5 as their defaulf value.\n",
    "- filling NaN/ None values by mean, std, or any other statistical vlaues\n",
    "    - df[\"Age\"].fillna(df['Age'].mean())"
   ]
  },
  {
   "cell_type": "code",
   "execution_count": 30,
   "id": "20fc3099",
   "metadata": {},
   "outputs": [
    {
     "name": "stdout",
     "output_type": "stream",
     "text": [
      "   employee_ID       Name   Age   salary\n",
      "0       EMP001        ram  21.0  45000.0\n",
      "1         None       None   NaN      NaN\n",
      "2       EMP003      rahul  22.0  23000.0\n",
      "3       EMP004      mohit  23.0  45000.0\n",
      "4       EMP005    susheel  34.0  50000.0\n",
      "5       EMP006       ajay  25.0  42000.0\n",
      "6         None     satyam  35.0  52000.0\n",
      "7       EMP008       None  22.0  51000.0\n",
      "8       EMP009    anshika   NaN      NaN\n",
      "9       EMP010   pranjali  52.0  48000.0\n",
      "10      EMP011     akhand  22.0  48000.0\n",
      "11      EMP012  ankanksha  25.0  49000.0\n",
      "12      EMP013      sneha   NaN  51000.0\n"
     ]
    }
   ],
   "source": [
    "data ={\n",
    "    \"employee_ID\"  : ['EMP001',None,'EMP003','EMP004','EMP005','EMP006',None,'EMP008',\"EMP009\",'EMP010','EMP011','EMP012','EMP013'],\n",
    "    'Name': ['ram', None,'rahul','mohit', 'susheel','ajay','satyam',None, 'anshika', 'pranjali', 'akhand', 'ankanksha','sneha'],\n",
    "    \"Age\": [21,None, 22,23,34,25,35,22,None,52,22,25,None],\n",
    "    \"salary\": [45000,None,23000,45000,50000,42000,52000,51000,None,48000,48000,49000,51000]\n",
    "    }\n",
    "\n",
    "df_2 = pd.DataFrame(data)\n",
    "print(df_2)"
   ]
  },
  {
   "cell_type": "code",
   "execution_count": 31,
   "id": "9ad1e55f",
   "metadata": {},
   "outputs": [
    {
     "data": {
      "text/html": [
       "<div>\n",
       "<style scoped>\n",
       "    .dataframe tbody tr th:only-of-type {\n",
       "        vertical-align: middle;\n",
       "    }\n",
       "\n",
       "    .dataframe tbody tr th {\n",
       "        vertical-align: top;\n",
       "    }\n",
       "\n",
       "    .dataframe thead th {\n",
       "        text-align: right;\n",
       "    }\n",
       "</style>\n",
       "<table border=\"1\" class=\"dataframe\">\n",
       "  <thead>\n",
       "    <tr style=\"text-align: right;\">\n",
       "      <th></th>\n",
       "      <th>employee_ID</th>\n",
       "      <th>Name</th>\n",
       "      <th>Age</th>\n",
       "      <th>salary</th>\n",
       "    </tr>\n",
       "  </thead>\n",
       "  <tbody>\n",
       "    <tr>\n",
       "      <th>0</th>\n",
       "      <td>False</td>\n",
       "      <td>False</td>\n",
       "      <td>False</td>\n",
       "      <td>False</td>\n",
       "    </tr>\n",
       "    <tr>\n",
       "      <th>1</th>\n",
       "      <td>True</td>\n",
       "      <td>True</td>\n",
       "      <td>True</td>\n",
       "      <td>True</td>\n",
       "    </tr>\n",
       "    <tr>\n",
       "      <th>2</th>\n",
       "      <td>False</td>\n",
       "      <td>False</td>\n",
       "      <td>False</td>\n",
       "      <td>False</td>\n",
       "    </tr>\n",
       "    <tr>\n",
       "      <th>3</th>\n",
       "      <td>False</td>\n",
       "      <td>False</td>\n",
       "      <td>False</td>\n",
       "      <td>False</td>\n",
       "    </tr>\n",
       "    <tr>\n",
       "      <th>4</th>\n",
       "      <td>False</td>\n",
       "      <td>False</td>\n",
       "      <td>False</td>\n",
       "      <td>False</td>\n",
       "    </tr>\n",
       "    <tr>\n",
       "      <th>5</th>\n",
       "      <td>False</td>\n",
       "      <td>False</td>\n",
       "      <td>False</td>\n",
       "      <td>False</td>\n",
       "    </tr>\n",
       "    <tr>\n",
       "      <th>6</th>\n",
       "      <td>True</td>\n",
       "      <td>False</td>\n",
       "      <td>False</td>\n",
       "      <td>False</td>\n",
       "    </tr>\n",
       "    <tr>\n",
       "      <th>7</th>\n",
       "      <td>False</td>\n",
       "      <td>True</td>\n",
       "      <td>False</td>\n",
       "      <td>False</td>\n",
       "    </tr>\n",
       "    <tr>\n",
       "      <th>8</th>\n",
       "      <td>False</td>\n",
       "      <td>False</td>\n",
       "      <td>True</td>\n",
       "      <td>True</td>\n",
       "    </tr>\n",
       "    <tr>\n",
       "      <th>9</th>\n",
       "      <td>False</td>\n",
       "      <td>False</td>\n",
       "      <td>False</td>\n",
       "      <td>False</td>\n",
       "    </tr>\n",
       "    <tr>\n",
       "      <th>10</th>\n",
       "      <td>False</td>\n",
       "      <td>False</td>\n",
       "      <td>False</td>\n",
       "      <td>False</td>\n",
       "    </tr>\n",
       "    <tr>\n",
       "      <th>11</th>\n",
       "      <td>False</td>\n",
       "      <td>False</td>\n",
       "      <td>False</td>\n",
       "      <td>False</td>\n",
       "    </tr>\n",
       "    <tr>\n",
       "      <th>12</th>\n",
       "      <td>False</td>\n",
       "      <td>False</td>\n",
       "      <td>True</td>\n",
       "      <td>False</td>\n",
       "    </tr>\n",
       "  </tbody>\n",
       "</table>\n",
       "</div>"
      ],
      "text/plain": [
       "    employee_ID   Name    Age  salary\n",
       "0         False  False  False   False\n",
       "1          True   True   True    True\n",
       "2         False  False  False   False\n",
       "3         False  False  False   False\n",
       "4         False  False  False   False\n",
       "5         False  False  False   False\n",
       "6          True  False  False   False\n",
       "7         False   True  False   False\n",
       "8         False  False   True    True\n",
       "9         False  False  False   False\n",
       "10        False  False  False   False\n",
       "11        False  False  False   False\n",
       "12        False  False   True   False"
      ]
     },
     "execution_count": 31,
     "metadata": {},
     "output_type": "execute_result"
    }
   ],
   "source": [
    "df_2.isnull()"
   ]
  },
  {
   "cell_type": "code",
   "execution_count": 32,
   "id": "cb94afbd",
   "metadata": {},
   "outputs": [
    {
     "data": {
      "text/plain": [
       "employee_ID    2\n",
       "Name           2\n",
       "Age            3\n",
       "salary         2\n",
       "dtype: int64"
      ]
     },
     "execution_count": 32,
     "metadata": {},
     "output_type": "execute_result"
    }
   ],
   "source": [
    "df_2.isnull().sum()"
   ]
  },
  {
   "cell_type": "code",
   "execution_count": 33,
   "id": "2122a168",
   "metadata": {},
   "outputs": [
    {
     "data": {
      "text/html": [
       "<div>\n",
       "<style scoped>\n",
       "    .dataframe tbody tr th:only-of-type {\n",
       "        vertical-align: middle;\n",
       "    }\n",
       "\n",
       "    .dataframe tbody tr th {\n",
       "        vertical-align: top;\n",
       "    }\n",
       "\n",
       "    .dataframe thead th {\n",
       "        text-align: right;\n",
       "    }\n",
       "</style>\n",
       "<table border=\"1\" class=\"dataframe\">\n",
       "  <thead>\n",
       "    <tr style=\"text-align: right;\">\n",
       "      <th></th>\n",
       "      <th>employee_ID</th>\n",
       "      <th>Name</th>\n",
       "      <th>Age</th>\n",
       "      <th>salary</th>\n",
       "    </tr>\n",
       "  </thead>\n",
       "  <tbody>\n",
       "    <tr>\n",
       "      <th>0</th>\n",
       "      <td>EMP001</td>\n",
       "      <td>ram</td>\n",
       "      <td>21.0</td>\n",
       "      <td>45000.0</td>\n",
       "    </tr>\n",
       "    <tr>\n",
       "      <th>2</th>\n",
       "      <td>EMP003</td>\n",
       "      <td>rahul</td>\n",
       "      <td>22.0</td>\n",
       "      <td>23000.0</td>\n",
       "    </tr>\n",
       "    <tr>\n",
       "      <th>3</th>\n",
       "      <td>EMP004</td>\n",
       "      <td>mohit</td>\n",
       "      <td>23.0</td>\n",
       "      <td>45000.0</td>\n",
       "    </tr>\n",
       "    <tr>\n",
       "      <th>4</th>\n",
       "      <td>EMP005</td>\n",
       "      <td>susheel</td>\n",
       "      <td>34.0</td>\n",
       "      <td>50000.0</td>\n",
       "    </tr>\n",
       "    <tr>\n",
       "      <th>5</th>\n",
       "      <td>EMP006</td>\n",
       "      <td>ajay</td>\n",
       "      <td>25.0</td>\n",
       "      <td>42000.0</td>\n",
       "    </tr>\n",
       "    <tr>\n",
       "      <th>9</th>\n",
       "      <td>EMP010</td>\n",
       "      <td>pranjali</td>\n",
       "      <td>52.0</td>\n",
       "      <td>48000.0</td>\n",
       "    </tr>\n",
       "    <tr>\n",
       "      <th>10</th>\n",
       "      <td>EMP011</td>\n",
       "      <td>akhand</td>\n",
       "      <td>22.0</td>\n",
       "      <td>48000.0</td>\n",
       "    </tr>\n",
       "    <tr>\n",
       "      <th>11</th>\n",
       "      <td>EMP012</td>\n",
       "      <td>ankanksha</td>\n",
       "      <td>25.0</td>\n",
       "      <td>49000.0</td>\n",
       "    </tr>\n",
       "  </tbody>\n",
       "</table>\n",
       "</div>"
      ],
      "text/plain": [
       "   employee_ID       Name   Age   salary\n",
       "0       EMP001        ram  21.0  45000.0\n",
       "2       EMP003      rahul  22.0  23000.0\n",
       "3       EMP004      mohit  23.0  45000.0\n",
       "4       EMP005    susheel  34.0  50000.0\n",
       "5       EMP006       ajay  25.0  42000.0\n",
       "9       EMP010   pranjali  52.0  48000.0\n",
       "10      EMP011     akhand  22.0  48000.0\n",
       "11      EMP012  ankanksha  25.0  49000.0"
      ]
     },
     "execution_count": 33,
     "metadata": {},
     "output_type": "execute_result"
    }
   ],
   "source": [
    "df_2.dropna() # row 1, 6, 7, 8, 12 is removed from the data frame"
   ]
  },
  {
   "cell_type": "code",
   "execution_count": 34,
   "id": "b2024596",
   "metadata": {},
   "outputs": [
    {
     "data": {
      "text/plain": [
       "0     45000.000000\n",
       "1     52892.307692\n",
       "2     23000.000000\n",
       "3     45000.000000\n",
       "4     50000.000000\n",
       "5     42000.000000\n",
       "6     52000.000000\n",
       "7     51000.000000\n",
       "8     52892.307692\n",
       "9     48000.000000\n",
       "10    48000.000000\n",
       "11    49000.000000\n",
       "12    51000.000000\n",
       "Name: salary, dtype: float64"
      ]
     },
     "execution_count": 34,
     "metadata": {},
     "output_type": "execute_result"
    }
   ],
   "source": [
    "df_2['salary'].fillna(df['salary'].mean()) # \"salary\" column cointaing NaN/None values are updated by the mean of the column."
   ]
  },
  {
   "cell_type": "code",
   "execution_count": 35,
   "id": "5f1f440d",
   "metadata": {},
   "outputs": [
    {
     "data": {
      "text/html": [
       "<div>\n",
       "<style scoped>\n",
       "    .dataframe tbody tr th:only-of-type {\n",
       "        vertical-align: middle;\n",
       "    }\n",
       "\n",
       "    .dataframe tbody tr th {\n",
       "        vertical-align: top;\n",
       "    }\n",
       "\n",
       "    .dataframe thead th {\n",
       "        text-align: right;\n",
       "    }\n",
       "</style>\n",
       "<table border=\"1\" class=\"dataframe\">\n",
       "  <thead>\n",
       "    <tr style=\"text-align: right;\">\n",
       "      <th></th>\n",
       "      <th>employee_ID</th>\n",
       "      <th>Name</th>\n",
       "      <th>Age</th>\n",
       "      <th>salary</th>\n",
       "    </tr>\n",
       "  </thead>\n",
       "  <tbody>\n",
       "    <tr>\n",
       "      <th>0</th>\n",
       "      <td>EMP001</td>\n",
       "      <td>ram</td>\n",
       "      <td>21.0</td>\n",
       "      <td>45000.0</td>\n",
       "    </tr>\n",
       "    <tr>\n",
       "      <th>1</th>\n",
       "      <td>5</td>\n",
       "      <td>5</td>\n",
       "      <td>5.0</td>\n",
       "      <td>5.0</td>\n",
       "    </tr>\n",
       "    <tr>\n",
       "      <th>2</th>\n",
       "      <td>EMP003</td>\n",
       "      <td>rahul</td>\n",
       "      <td>22.0</td>\n",
       "      <td>23000.0</td>\n",
       "    </tr>\n",
       "    <tr>\n",
       "      <th>3</th>\n",
       "      <td>EMP004</td>\n",
       "      <td>mohit</td>\n",
       "      <td>23.0</td>\n",
       "      <td>45000.0</td>\n",
       "    </tr>\n",
       "    <tr>\n",
       "      <th>4</th>\n",
       "      <td>EMP005</td>\n",
       "      <td>susheel</td>\n",
       "      <td>34.0</td>\n",
       "      <td>50000.0</td>\n",
       "    </tr>\n",
       "    <tr>\n",
       "      <th>5</th>\n",
       "      <td>EMP006</td>\n",
       "      <td>ajay</td>\n",
       "      <td>25.0</td>\n",
       "      <td>42000.0</td>\n",
       "    </tr>\n",
       "    <tr>\n",
       "      <th>6</th>\n",
       "      <td>5</td>\n",
       "      <td>satyam</td>\n",
       "      <td>35.0</td>\n",
       "      <td>52000.0</td>\n",
       "    </tr>\n",
       "    <tr>\n",
       "      <th>7</th>\n",
       "      <td>EMP008</td>\n",
       "      <td>5</td>\n",
       "      <td>22.0</td>\n",
       "      <td>51000.0</td>\n",
       "    </tr>\n",
       "    <tr>\n",
       "      <th>8</th>\n",
       "      <td>EMP009</td>\n",
       "      <td>anshika</td>\n",
       "      <td>5.0</td>\n",
       "      <td>5.0</td>\n",
       "    </tr>\n",
       "    <tr>\n",
       "      <th>9</th>\n",
       "      <td>EMP010</td>\n",
       "      <td>pranjali</td>\n",
       "      <td>52.0</td>\n",
       "      <td>48000.0</td>\n",
       "    </tr>\n",
       "    <tr>\n",
       "      <th>10</th>\n",
       "      <td>EMP011</td>\n",
       "      <td>akhand</td>\n",
       "      <td>22.0</td>\n",
       "      <td>48000.0</td>\n",
       "    </tr>\n",
       "    <tr>\n",
       "      <th>11</th>\n",
       "      <td>EMP012</td>\n",
       "      <td>ankanksha</td>\n",
       "      <td>25.0</td>\n",
       "      <td>49000.0</td>\n",
       "    </tr>\n",
       "    <tr>\n",
       "      <th>12</th>\n",
       "      <td>EMP013</td>\n",
       "      <td>sneha</td>\n",
       "      <td>5.0</td>\n",
       "      <td>51000.0</td>\n",
       "    </tr>\n",
       "  </tbody>\n",
       "</table>\n",
       "</div>"
      ],
      "text/plain": [
       "   employee_ID       Name   Age   salary\n",
       "0       EMP001        ram  21.0  45000.0\n",
       "1            5          5   5.0      5.0\n",
       "2       EMP003      rahul  22.0  23000.0\n",
       "3       EMP004      mohit  23.0  45000.0\n",
       "4       EMP005    susheel  34.0  50000.0\n",
       "5       EMP006       ajay  25.0  42000.0\n",
       "6            5     satyam  35.0  52000.0\n",
       "7       EMP008          5  22.0  51000.0\n",
       "8       EMP009    anshika   5.0      5.0\n",
       "9       EMP010   pranjali  52.0  48000.0\n",
       "10      EMP011     akhand  22.0  48000.0\n",
       "11      EMP012  ankanksha  25.0  49000.0\n",
       "12      EMP013      sneha   5.0  51000.0"
      ]
     },
     "execution_count": 35,
     "metadata": {},
     "output_type": "execute_result"
    }
   ],
   "source": [
    "df_2.fillna(5)"
   ]
  },
  {
   "cell_type": "markdown",
   "id": "bf5315c9",
   "metadata": {},
   "source": [
    "## Interpolation\n",
    "- This is a method to fill the missing values in a data frame through estimated vales.\n",
    "\n",
    "like we have data:\n",
    "\n",
    "[10, 20, 30, None, 50, 60].\n",
    "\n",
    "so by the help to interpolation $missing$ data will automatically get the value $40$.\n",
    "\n",
    "- Methods in interpolation: Interpolation consist of many methods like: linear, quadratic, cubic, time and their many other interpolation methods.\n",
    "- There is catch with interpolation. It required numerical data. \n"
   ]
  },
  {
   "cell_type": "code",
   "execution_count": 36,
   "id": "18944b81",
   "metadata": {},
   "outputs": [
    {
     "name": "stdout",
     "output_type": "stream",
     "text": [
      "   time  values\n",
      "0     1    10.0\n",
      "1     2     NaN\n",
      "2     3    30.0\n",
      "3     4    40.0\n",
      "4     5    50.0\n"
     ]
    }
   ],
   "source": [
    "x = {\n",
    "    'time': [1,2,3,4,5],\n",
    "    'values': [10, None, 30, 40, 50]\n",
    "}\n",
    "df_4 = pd.DataFrame(x)\n",
    "print(df_4)"
   ]
  },
  {
   "cell_type": "code",
   "execution_count": 37,
   "id": "a313fcb1",
   "metadata": {},
   "outputs": [
    {
     "name": "stdout",
     "output_type": "stream",
     "text": [
      "   time  values\n",
      "0     1    10.0\n",
      "1     2    20.0\n",
      "2     3    30.0\n",
      "3     4    40.0\n",
      "4     5    50.0\n",
      "Here we get the estimated value for the NaN.\n"
     ]
    }
   ],
   "source": [
    "df_4[\"values\"] = df_4['values'].interpolate(method='linear')\n",
    "print(df_4)\n",
    "print(\"Here we get the estimated value for the NaN.\")"
   ]
  },
  {
   "cell_type": "markdown",
   "id": "a1348361",
   "metadata": {},
   "source": [
    "# Organising a data\n",
    "- sorting\n",
    "    - df.sort_values(by=\"column_name\", ascending=True/False). # you use $inplace=True$ for changing the original data frame\n",
    "    - for performing sorting in multiple columns.\n",
    "        - df.sort_values(by=['column_1', 'column_2', '...'], accending= [True, Flase, ... True/False]) # the number of True/False should shame as the number of colomn passed for the sorting.\n",
    "- filtering\n"
   ]
  },
  {
   "cell_type": "code",
   "execution_count": 40,
   "id": "46fed997",
   "metadata": {},
   "outputs": [],
   "source": [
    "student = { 'Name': ['ram', 'syam','rahul','mohit', 'susheel','ajay','satyam','naveen', 'anshika', 'pranjali', 'akhand', 'ankanksha','sneha'],\n",
    "    'class': [10,9,10,12,10,12,11,11,11,9,9,12,11],\n",
    "    \"Age\": [21,22,32,23,34,25,35,22,23,52,22,25,23],\n",
    "    \"Total Marks\": [450, 250, 300, 430, 432, 332, 438, 421, 215, 275, 315, 302, 499] \n",
    "}"
   ]
  },
  {
   "cell_type": "code",
   "execution_count": 41,
   "id": "0d15a3b3",
   "metadata": {},
   "outputs": [
    {
     "name": "stdout",
     "output_type": "stream",
     "text": [
      "         Name  class  Age  Total Marks\n",
      "0         ram     10   21          450\n",
      "1        syam      9   22          250\n",
      "2       rahul     10   32          300\n",
      "3       mohit     12   23          430\n",
      "4     susheel     10   34          432\n",
      "5        ajay     12   25          332\n",
      "6      satyam     11   35          438\n",
      "7      naveen     11   22          421\n",
      "8     anshika     11   23          215\n",
      "9    pranjali      9   52          275\n",
      "10     akhand      9   22          315\n",
      "11  ankanksha     12   25          302\n",
      "12      sneha     11   23          499\n"
     ]
    }
   ],
   "source": [
    "std_df = pd.DataFrame(student)\n",
    "print(std_df)"
   ]
  },
  {
   "cell_type": "code",
   "execution_count": null,
   "id": "1d45cf60",
   "metadata": {},
   "outputs": [
    {
     "data": {
      "text/html": [
       "<div>\n",
       "<style scoped>\n",
       "    .dataframe tbody tr th:only-of-type {\n",
       "        vertical-align: middle;\n",
       "    }\n",
       "\n",
       "    .dataframe tbody tr th {\n",
       "        vertical-align: top;\n",
       "    }\n",
       "\n",
       "    .dataframe thead th {\n",
       "        text-align: right;\n",
       "    }\n",
       "</style>\n",
       "<table border=\"1\" class=\"dataframe\">\n",
       "  <thead>\n",
       "    <tr style=\"text-align: right;\">\n",
       "      <th></th>\n",
       "      <th>Name</th>\n",
       "      <th>class</th>\n",
       "      <th>Age</th>\n",
       "      <th>Total Marks</th>\n",
       "    </tr>\n",
       "  </thead>\n",
       "  <tbody>\n",
       "    <tr>\n",
       "      <th>5</th>\n",
       "      <td>ajay</td>\n",
       "      <td>8</td>\n",
       "      <td>25</td>\n",
       "      <td>332</td>\n",
       "    </tr>\n",
       "    <tr>\n",
       "      <th>10</th>\n",
       "      <td>akhand</td>\n",
       "      <td>9</td>\n",
       "      <td>22</td>\n",
       "      <td>315</td>\n",
       "    </tr>\n",
       "    <tr>\n",
       "      <th>11</th>\n",
       "      <td>ankanksha</td>\n",
       "      <td>12</td>\n",
       "      <td>25</td>\n",
       "      <td>302</td>\n",
       "    </tr>\n",
       "    <tr>\n",
       "      <th>8</th>\n",
       "      <td>anshika</td>\n",
       "      <td>8</td>\n",
       "      <td>23</td>\n",
       "      <td>215</td>\n",
       "    </tr>\n",
       "    <tr>\n",
       "      <th>3</th>\n",
       "      <td>mohit</td>\n",
       "      <td>5</td>\n",
       "      <td>23</td>\n",
       "      <td>430</td>\n",
       "    </tr>\n",
       "    <tr>\n",
       "      <th>7</th>\n",
       "      <td>naveen</td>\n",
       "      <td>8</td>\n",
       "      <td>22</td>\n",
       "      <td>421</td>\n",
       "    </tr>\n",
       "    <tr>\n",
       "      <th>9</th>\n",
       "      <td>pranjali</td>\n",
       "      <td>9</td>\n",
       "      <td>52</td>\n",
       "      <td>275</td>\n",
       "    </tr>\n",
       "    <tr>\n",
       "      <th>2</th>\n",
       "      <td>rahul</td>\n",
       "      <td>8</td>\n",
       "      <td>32</td>\n",
       "      <td>300</td>\n",
       "    </tr>\n",
       "    <tr>\n",
       "      <th>0</th>\n",
       "      <td>ram</td>\n",
       "      <td>6</td>\n",
       "      <td>21</td>\n",
       "      <td>450</td>\n",
       "    </tr>\n",
       "    <tr>\n",
       "      <th>6</th>\n",
       "      <td>satyam</td>\n",
       "      <td>6</td>\n",
       "      <td>35</td>\n",
       "      <td>438</td>\n",
       "    </tr>\n",
       "    <tr>\n",
       "      <th>12</th>\n",
       "      <td>sneha</td>\n",
       "      <td>11</td>\n",
       "      <td>23</td>\n",
       "      <td>499</td>\n",
       "    </tr>\n",
       "    <tr>\n",
       "      <th>4</th>\n",
       "      <td>susheel</td>\n",
       "      <td>6</td>\n",
       "      <td>34</td>\n",
       "      <td>432</td>\n",
       "    </tr>\n",
       "    <tr>\n",
       "      <th>1</th>\n",
       "      <td>syam</td>\n",
       "      <td>7</td>\n",
       "      <td>22</td>\n",
       "      <td>250</td>\n",
       "    </tr>\n",
       "  </tbody>\n",
       "</table>\n",
       "</div>"
      ],
      "text/plain": [
       "         Name  class  Age  Total Marks\n",
       "5        ajay      8   25          332\n",
       "10     akhand      9   22          315\n",
       "11  ankanksha     12   25          302\n",
       "8     anshika      8   23          215\n",
       "3       mohit      5   23          430\n",
       "7      naveen      8   22          421\n",
       "9    pranjali      9   52          275\n",
       "2       rahul      8   32          300\n",
       "0         ram      6   21          450\n",
       "6      satyam      6   35          438\n",
       "12      sneha     11   23          499\n",
       "4     susheel      6   34          432\n",
       "1        syam      7   22          250"
      ]
     },
     "execution_count": 18,
     "metadata": {},
     "output_type": "execute_result"
    }
   ],
   "source": [
    "std_df.sort_values(by='Name', ascending= True)"
   ]
  },
  {
   "cell_type": "code",
   "execution_count": null,
   "id": "535f0302",
   "metadata": {},
   "outputs": [
    {
     "name": "stdout",
     "output_type": "stream",
     "text": [
      "         Name  class  Age  Total Marks\n",
      "0         ram      6   21          450\n",
      "1        syam      7   22          250\n",
      "2       rahul      8   32          300\n",
      "3       mohit      5   23          430\n",
      "4     susheel      6   34          432\n",
      "5        ajay      8   25          332\n",
      "6      satyam      6   35          438\n",
      "7      naveen      8   22          421\n",
      "8     anshika      8   23          215\n",
      "9    pranjali      9   52          275\n",
      "10     akhand      9   22          315\n",
      "11  ankanksha     12   25          302\n",
      "12      sneha     11   23          499\n"
     ]
    }
   ],
   "source": [
    "print(std_df)"
   ]
  },
  {
   "cell_type": "code",
   "execution_count": null,
   "id": "094da384",
   "metadata": {},
   "outputs": [
    {
     "name": "stdout",
     "output_type": "stream",
     "text": [
      "         Name  class  Age  Total Marks\n",
      "5        ajay      8   25          332\n",
      "10     akhand      9   22          315\n",
      "11  ankanksha     12   25          302\n",
      "8     anshika      8   23          215\n",
      "3       mohit      5   23          430\n",
      "7      naveen      8   22          421\n",
      "9    pranjali      9   52          275\n",
      "2       rahul      8   32          300\n",
      "0         ram      6   21          450\n",
      "6      satyam      6   35          438\n",
      "12      sneha     11   23          499\n",
      "4     susheel      6   34          432\n",
      "1        syam      7   22          250\n"
     ]
    }
   ],
   "source": [
    "std_df.sort_values(by='Name', ascending= True, inplace=True)\n",
    "print(std_df)"
   ]
  },
  {
   "cell_type": "markdown",
   "id": "e80fe4b4",
   "metadata": {},
   "source": [
    "# Grouping \n",
    "Grouping help us to keep the same categorical data together.\n",
    "\n",
    "like: \n",
    "- df.groupby('column_name').['column_name'].sum()\n",
    "\n",
    "Lets see what going on here in the basis on an example:\n",
    "- std_df.groupby('Age')['Total Marks'].sum()\n",
    "firstly it collect all the commom values, like age group of same class (9,10,11,12). then it performs operation over next column (like: mean, sum, std, etc)\n"
   ]
  },
  {
   "cell_type": "code",
   "execution_count": 42,
   "id": "45f797c8",
   "metadata": {},
   "outputs": [
    {
     "name": "stdout",
     "output_type": "stream",
     "text": [
      "class\n",
      "9     280.000000\n",
      "10    394.000000\n",
      "11    393.250000\n",
      "12    354.666667\n",
      "Name: Total Marks, dtype: float64\n"
     ]
    }
   ],
   "source": [
    "group = std_df.groupby(\"class\")['Total Marks'].mean() # calulate the mean marks obtained by each class.\n",
    "print(group)"
   ]
  },
  {
   "cell_type": "code",
   "execution_count": null,
   "id": "36417bc2",
   "metadata": {},
   "outputs": [
    {
     "name": "stdout",
     "output_type": "stream",
     "text": [
      "class  Name     \n",
      "9      akhand       315\n",
      "       pranjali     275\n",
      "       syam         250\n",
      "10     rahul        300\n",
      "       ram          450\n",
      "       susheel      432\n",
      "11     anshika      215\n",
      "       naveen       421\n",
      "       satyam       438\n",
      "       sneha        499\n",
      "12     ajay         332\n",
      "       ankanksha    302\n",
      "       mohit        430\n",
      "Name: Total Marks, dtype: int64\n"
     ]
    }
   ],
   "source": [
    "group = std_df.groupby([\"class\",'Name'])['Total Marks'].sum() # multiple grouping\n",
    "print(group)"
   ]
  },
  {
   "cell_type": "markdown",
   "id": "132c0ed4",
   "metadata": {},
   "source": []
  },
  {
   "cell_type": "code",
   "execution_count": null,
   "id": "5a0c8e3c",
   "metadata": {},
   "outputs": [],
   "source": []
  }
 ],
 "metadata": {
  "kernelspec": {
   "display_name": "Python 3",
   "language": "python",
   "name": "python3"
  },
  "language_info": {
   "codemirror_mode": {
    "name": "ipython",
    "version": 3
   },
   "file_extension": ".py",
   "mimetype": "text/x-python",
   "name": "python",
   "nbconvert_exporter": "python",
   "pygments_lexer": "ipython3",
   "version": "3.10.0"
  }
 },
 "nbformat": 4,
 "nbformat_minor": 5
}
